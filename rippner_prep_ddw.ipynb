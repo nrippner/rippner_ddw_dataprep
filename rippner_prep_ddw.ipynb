{
 "cells": [
  {
   "cell_type": "markdown",
   "metadata": {},
   "source": [
    "# Data Preparation Demonstration\n",
    "#### Noah Rippner | May 2016 ####\n",
    "\n",
    "![missing](http://i882.photobucket.com/albums/ac24/Noah_Rippner/maris_zpsl444g4so.jpg)\n",
    "\n",
    "My hope is that this demonstration helps you to: \n",
    "1.  identify more clearly with the process of data preparation in data mining and, \n",
    "2.  further empathize with the data scientist's perspective. \n",
    "\n",
    "I didn't begin to know what data preparation was about until I walked through it. I want to offer that experience to you. Let's get started! "
   ]
  },
  {
   "cell_type": "markdown",
   "metadata": {},
   "source": [
    "> _I drew heavily from and owe credit to this superb [analysis](http://www.analyticsvidhya.com/blog/2015/06/solution-kaggle-competition-bike-sharing-demand/ \"Sunil Ray\") by Sunil Ray at Analytics Vidhya, wherein he has laid out a fantastic exploration/preparation process for us to go through. Aside from reconstructing Sunil's R code into Python, the exploration, preparation, and modeling process is largely Sunil's creation._\n",
    "\n"
   ]
  },
  {
   "cell_type": "markdown",
   "metadata": {},
   "source": [
    "## Summary"
   ]
  },
  {
   "cell_type": "markdown",
   "metadata": {},
   "source": [
    "Tasks:\n",
    "\n",
    "1. Exploration\n",
    "    - Attempt to understand data's origin, content, and meaning. Form preliminary hypotheses for further exporation\n",
    "    - Prepare Python environment and load datasets as dataframe objects\n",
    "    - Examine summary statistics and plots in order to assess data quality\n",
    "    - Check for duplicates and missing values\n",
    "    - \"Test\" hypotheses (multivariate interrelationships) with exploratory data analysis (plots)\n",
    "2. Preparation\n",
    "    - Feature Engineering\n",
    "        * Extract time variables\n",
    "        * Bin 'hour' and 'temp' predictor variables using decision tree regression to establish partition thresholds\n",
    "        * Extract day type variables\n",
    "3. Model building"
   ]
  },
  {
   "cell_type": "markdown",
   "metadata": {},
   "source": [
    "## Fundamentals"
   ]
  },
  {
   "cell_type": "markdown",
   "metadata": {},
   "source": [
    "### Data preparation:\n",
    "1. is iterative throughout the data mining process\n",
    "2. can require concrete and/or subjective judgment\n",
    "3. is usually mandatory and crucial to building a good model\n",
    "4. is often time consuming and exhausting\n",
    "5. is usually completed using R, Python, or SAS code\n",
    "6. is context specific -- must be attuned to the business/research scenario as well as the mechanics of the intended model(s)\n",
    "7. [data preprocessing techniques](https://drive.google.com/open?id=0Byud_5Mue3EYZDgzMklyUXNtYzQ) have been researched extensively\n",
    "8. most common exploration/preparation tasks in applied data science[(Sunil Ray)](http://www.analyticsvidhya.com/blog/2016/01/guide-data-exploration/):\n",
    "    * Variable Identification\n",
    "    * Univariate Analysis\n",
    "    * Multivariate Analysis\n",
    "    * Missing Value Treatment\n",
    "    * Variable Transformation (centering, normalization, scaling, etc.)\n",
    "    * Variable Creation ([Feature Engineering](https://en.wikipedia.org/wiki/Feature_engineering))\n",
    "\n",
    "\\***these tasks may be iterated over a large number of times in order to refine a good model**\\*\n",
    "\n",
    "The Data Mining Cycle:\n",
    "![missing](http://i882.photobucket.com/albums/ac24/Noah_Rippner/crisp-dm_zps065t3ltv.png)\n",
    "\n",
    "### Data Exploration: Exploratory Data Analysis\n",
    "![missing](http://i882.photobucket.com/albums/ac24/Noah_Rippner/tukey_quotes_zps5wuw4qei.jpg)\n",
    "1. EDA, in contrast with traditional statistics orthodoxy, is a frame of mind that values creative investigation over rigorous adherence to theoretical assumptions.\n",
    "2. It relies heavily on statistical graphs.\n",
    "3. > “Most EDA techniques are graphical in nature with a few quantitative techniques. The reason for the heavy reliance on graphics is that by its very nature the main role of EDA is to open-mindedly explore, and graphics gives the analysts unparalleled power to do so, enticing the data to reveal its structural secrets, and being always ready to gain some new, often unsuspected, insight into the data. In combination with the natural pattern-recognition capabilities that we all possess, graphics provides, of course, unparalleled power to carry this out.” [(Garcia, et al, 2014)](http://www.springer.com/us/book/9783319102467)\n",
    "4. EDA serves to [(NIST)](http://itl.nist.gov/div898/handbook/) :\n",
    "    * maximize insight into a data set\n",
    "    * uncover underlying structure\n",
    "    * extract important variables\n",
    "    * detect outliers and anomalies\n",
    "    * test underlying asumptions\n",
    "    * develop parsimonious models\n",
    "5. As I see it, EDA allows the data scientist to:    \n",
    "    * quickly discover relationships between variables and 'test' hypotheses\n",
    "    * make informed decisions about data preparation\n",
    "    * make informed decisions about model building"
   ]
  },
  {
   "cell_type": "markdown",
   "metadata": {},
   "source": [
    "# Exploration"
   ]
  },
  {
   "cell_type": "markdown",
   "metadata": {},
   "source": [
    "## Business Understanding\n",
    "[Kaggle Bike Sharing Competition](https://www.kaggle.com/c/bike-sharing-demand)\n",
    "> You are provided hourly rental data spanning two years. For this competition, the training set is comprised of the first 19 days of each month, while the test set is the 20th to the end of the month. You must predict the total count of bikes rented during each hour covered by the test set, using only information available prior to the rental period.\n",
    "\n",
    "### Data Dictionary\n",
    "\n",
    "Feature         | Description    \n",
    "--------------- |----------\n",
    "datetime        | timestamp\n",
    "season          | 1 = spring, 2 = summer, 3 = fall, 4 = winter \n",
    "holiday         | whether the day is considered a \n",
    "workingday      | whether the day is neither a weekend nor holiday\n",
    "weather         | 1: Clear, Few clouds, Partly cloudy, Partly cloudy 2: Mist + Cloudy, Mist + Broken clouds, Mist + Few clouds, Mist 3: Light Snow, Light Rain + Thunderstorm + Scattered clouds, Light Rain Scattered clouds 4: Heavy Rain + Ice Pallets + Thunderstorm + Mist, Snow + Fog \n",
    "temp            | temperature in Celsius\n",
    "atemp           | 'feels like' temperature in Celsius\n",
    "humidity        | relative humidity\n",
    "windspeed       | wind speed in kilometers per hour\n",
    "casual          | number of non-registered user rentals \n",
    "registered      | umber of registered user rentals\n",
    "count           | total number of rentals"
   ]
  },
  {
   "cell_type": "markdown",
   "metadata": {},
   "source": [
    "## Data Understanding\n",
    "\n",
    "First, import modules and load data:"
   ]
  },
  {
   "cell_type": "code",
   "execution_count": 1,
   "metadata": {
    "collapsed": true
   },
   "outputs": [],
   "source": [
    "import pandas as pd\n",
    "import numpy as np\n",
    "from pandas.tools.plotting import scatter_matrix\n",
    "from scipy.stats import boxcox\n",
    "from scipy import stats\n",
    "import matplotlib.pyplot as plt\n",
    "% matplotlib inline\n",
    "\n",
    "with open('bike_share_train.csv') as f:\n",
    "    train_ = pd.read_csv(f)\n",
    "with open('bike_share_test.csv') as f:\n",
    "    test_= pd.read_csv(f)"
   ]
  },
  {
   "cell_type": "markdown",
   "metadata": {},
   "source": [
    "Inspect data:"
   ]
  },
  {
   "cell_type": "code",
   "execution_count": 2,
   "metadata": {
    "collapsed": false
   },
   "outputs": [
    {
     "data": {
      "text/html": [
       "<div>\n",
       "<table border=\"1\" class=\"dataframe\">\n",
       "  <thead>\n",
       "    <tr style=\"text-align: right;\">\n",
       "      <th></th>\n",
       "      <th>datetime</th>\n",
       "      <th>season</th>\n",
       "      <th>holiday</th>\n",
       "      <th>workingday</th>\n",
       "      <th>weather</th>\n",
       "      <th>temp</th>\n",
       "      <th>atemp</th>\n",
       "      <th>humidity</th>\n",
       "      <th>windspeed</th>\n",
       "      <th>casual</th>\n",
       "      <th>registered</th>\n",
       "      <th>count</th>\n",
       "    </tr>\n",
       "  </thead>\n",
       "  <tbody>\n",
       "    <tr>\n",
       "      <th>0</th>\n",
       "      <td>2011-01-01 00:00:00</td>\n",
       "      <td>1</td>\n",
       "      <td>0</td>\n",
       "      <td>0</td>\n",
       "      <td>1</td>\n",
       "      <td>9.84</td>\n",
       "      <td>14.395</td>\n",
       "      <td>81</td>\n",
       "      <td>0.0</td>\n",
       "      <td>3</td>\n",
       "      <td>13</td>\n",
       "      <td>16</td>\n",
       "    </tr>\n",
       "    <tr>\n",
       "      <th>1</th>\n",
       "      <td>2011-01-01 01:00:00</td>\n",
       "      <td>1</td>\n",
       "      <td>0</td>\n",
       "      <td>0</td>\n",
       "      <td>1</td>\n",
       "      <td>9.02</td>\n",
       "      <td>13.635</td>\n",
       "      <td>80</td>\n",
       "      <td>0.0</td>\n",
       "      <td>8</td>\n",
       "      <td>32</td>\n",
       "      <td>40</td>\n",
       "    </tr>\n",
       "    <tr>\n",
       "      <th>2</th>\n",
       "      <td>2011-01-01 02:00:00</td>\n",
       "      <td>1</td>\n",
       "      <td>0</td>\n",
       "      <td>0</td>\n",
       "      <td>1</td>\n",
       "      <td>9.02</td>\n",
       "      <td>13.635</td>\n",
       "      <td>80</td>\n",
       "      <td>0.0</td>\n",
       "      <td>5</td>\n",
       "      <td>27</td>\n",
       "      <td>32</td>\n",
       "    </tr>\n",
       "    <tr>\n",
       "      <th>3</th>\n",
       "      <td>2011-01-01 03:00:00</td>\n",
       "      <td>1</td>\n",
       "      <td>0</td>\n",
       "      <td>0</td>\n",
       "      <td>1</td>\n",
       "      <td>9.84</td>\n",
       "      <td>14.395</td>\n",
       "      <td>75</td>\n",
       "      <td>0.0</td>\n",
       "      <td>3</td>\n",
       "      <td>10</td>\n",
       "      <td>13</td>\n",
       "    </tr>\n",
       "    <tr>\n",
       "      <th>4</th>\n",
       "      <td>2011-01-01 04:00:00</td>\n",
       "      <td>1</td>\n",
       "      <td>0</td>\n",
       "      <td>0</td>\n",
       "      <td>1</td>\n",
       "      <td>9.84</td>\n",
       "      <td>14.395</td>\n",
       "      <td>75</td>\n",
       "      <td>0.0</td>\n",
       "      <td>0</td>\n",
       "      <td>1</td>\n",
       "      <td>1</td>\n",
       "    </tr>\n",
       "  </tbody>\n",
       "</table>\n",
       "</div>"
      ],
      "text/plain": [
       "              datetime  season  holiday  workingday  weather  temp   atemp  \\\n",
       "0  2011-01-01 00:00:00       1        0           0        1  9.84  14.395   \n",
       "1  2011-01-01 01:00:00       1        0           0        1  9.02  13.635   \n",
       "2  2011-01-01 02:00:00       1        0           0        1  9.02  13.635   \n",
       "3  2011-01-01 03:00:00       1        0           0        1  9.84  14.395   \n",
       "4  2011-01-01 04:00:00       1        0           0        1  9.84  14.395   \n",
       "\n",
       "   humidity  windspeed  casual  registered  count  \n",
       "0        81        0.0       3          13     16  \n",
       "1        80        0.0       8          32     40  \n",
       "2        80        0.0       5          27     32  \n",
       "3        75        0.0       3          10     13  \n",
       "4        75        0.0       0           1      1  "
      ]
     },
     "execution_count": 2,
     "metadata": {},
     "output_type": "execute_result"
    }
   ],
   "source": [
    "train_.head()"
   ]
  },
  {
   "cell_type": "code",
   "execution_count": 3,
   "metadata": {
    "collapsed": false
   },
   "outputs": [
    {
     "data": {
      "text/html": [
       "<div>\n",
       "<table border=\"1\" class=\"dataframe\">\n",
       "  <thead>\n",
       "    <tr style=\"text-align: right;\">\n",
       "      <th></th>\n",
       "      <th>season</th>\n",
       "      <th>holiday</th>\n",
       "      <th>workingday</th>\n",
       "      <th>weather</th>\n",
       "      <th>temp</th>\n",
       "      <th>atemp</th>\n",
       "      <th>humidity</th>\n",
       "      <th>windspeed</th>\n",
       "      <th>casual</th>\n",
       "      <th>registered</th>\n",
       "      <th>count</th>\n",
       "    </tr>\n",
       "  </thead>\n",
       "  <tbody>\n",
       "    <tr>\n",
       "      <th>count</th>\n",
       "      <td>10886.000000</td>\n",
       "      <td>10886.000000</td>\n",
       "      <td>10886.000000</td>\n",
       "      <td>10886.000000</td>\n",
       "      <td>10886.00000</td>\n",
       "      <td>10886.000000</td>\n",
       "      <td>10886.000000</td>\n",
       "      <td>10886.000000</td>\n",
       "      <td>10886.000000</td>\n",
       "      <td>10886.000000</td>\n",
       "      <td>10886.000000</td>\n",
       "    </tr>\n",
       "    <tr>\n",
       "      <th>mean</th>\n",
       "      <td>2.506614</td>\n",
       "      <td>0.028569</td>\n",
       "      <td>0.680875</td>\n",
       "      <td>1.418427</td>\n",
       "      <td>20.23086</td>\n",
       "      <td>23.655084</td>\n",
       "      <td>61.886460</td>\n",
       "      <td>12.799395</td>\n",
       "      <td>36.021955</td>\n",
       "      <td>155.552177</td>\n",
       "      <td>191.574132</td>\n",
       "    </tr>\n",
       "    <tr>\n",
       "      <th>std</th>\n",
       "      <td>1.116174</td>\n",
       "      <td>0.166599</td>\n",
       "      <td>0.466159</td>\n",
       "      <td>0.633839</td>\n",
       "      <td>7.79159</td>\n",
       "      <td>8.474601</td>\n",
       "      <td>19.245033</td>\n",
       "      <td>8.164537</td>\n",
       "      <td>49.960477</td>\n",
       "      <td>151.039033</td>\n",
       "      <td>181.144454</td>\n",
       "    </tr>\n",
       "    <tr>\n",
       "      <th>min</th>\n",
       "      <td>1.000000</td>\n",
       "      <td>0.000000</td>\n",
       "      <td>0.000000</td>\n",
       "      <td>1.000000</td>\n",
       "      <td>0.82000</td>\n",
       "      <td>0.760000</td>\n",
       "      <td>0.000000</td>\n",
       "      <td>0.000000</td>\n",
       "      <td>0.000000</td>\n",
       "      <td>0.000000</td>\n",
       "      <td>1.000000</td>\n",
       "    </tr>\n",
       "    <tr>\n",
       "      <th>25%</th>\n",
       "      <td>2.000000</td>\n",
       "      <td>0.000000</td>\n",
       "      <td>0.000000</td>\n",
       "      <td>1.000000</td>\n",
       "      <td>13.94000</td>\n",
       "      <td>16.665000</td>\n",
       "      <td>47.000000</td>\n",
       "      <td>7.001500</td>\n",
       "      <td>4.000000</td>\n",
       "      <td>36.000000</td>\n",
       "      <td>42.000000</td>\n",
       "    </tr>\n",
       "    <tr>\n",
       "      <th>50%</th>\n",
       "      <td>3.000000</td>\n",
       "      <td>0.000000</td>\n",
       "      <td>1.000000</td>\n",
       "      <td>1.000000</td>\n",
       "      <td>20.50000</td>\n",
       "      <td>24.240000</td>\n",
       "      <td>62.000000</td>\n",
       "      <td>12.998000</td>\n",
       "      <td>17.000000</td>\n",
       "      <td>118.000000</td>\n",
       "      <td>145.000000</td>\n",
       "    </tr>\n",
       "    <tr>\n",
       "      <th>75%</th>\n",
       "      <td>4.000000</td>\n",
       "      <td>0.000000</td>\n",
       "      <td>1.000000</td>\n",
       "      <td>2.000000</td>\n",
       "      <td>26.24000</td>\n",
       "      <td>31.060000</td>\n",
       "      <td>77.000000</td>\n",
       "      <td>16.997900</td>\n",
       "      <td>49.000000</td>\n",
       "      <td>222.000000</td>\n",
       "      <td>284.000000</td>\n",
       "    </tr>\n",
       "    <tr>\n",
       "      <th>max</th>\n",
       "      <td>4.000000</td>\n",
       "      <td>1.000000</td>\n",
       "      <td>1.000000</td>\n",
       "      <td>4.000000</td>\n",
       "      <td>41.00000</td>\n",
       "      <td>45.455000</td>\n",
       "      <td>100.000000</td>\n",
       "      <td>56.996900</td>\n",
       "      <td>367.000000</td>\n",
       "      <td>886.000000</td>\n",
       "      <td>977.000000</td>\n",
       "    </tr>\n",
       "  </tbody>\n",
       "</table>\n",
       "</div>"
      ],
      "text/plain": [
       "             season       holiday    workingday       weather         temp  \\\n",
       "count  10886.000000  10886.000000  10886.000000  10886.000000  10886.00000   \n",
       "mean       2.506614      0.028569      0.680875      1.418427     20.23086   \n",
       "std        1.116174      0.166599      0.466159      0.633839      7.79159   \n",
       "min        1.000000      0.000000      0.000000      1.000000      0.82000   \n",
       "25%        2.000000      0.000000      0.000000      1.000000     13.94000   \n",
       "50%        3.000000      0.000000      1.000000      1.000000     20.50000   \n",
       "75%        4.000000      0.000000      1.000000      2.000000     26.24000   \n",
       "max        4.000000      1.000000      1.000000      4.000000     41.00000   \n",
       "\n",
       "              atemp      humidity     windspeed        casual    registered  \\\n",
       "count  10886.000000  10886.000000  10886.000000  10886.000000  10886.000000   \n",
       "mean      23.655084     61.886460     12.799395     36.021955    155.552177   \n",
       "std        8.474601     19.245033      8.164537     49.960477    151.039033   \n",
       "min        0.760000      0.000000      0.000000      0.000000      0.000000   \n",
       "25%       16.665000     47.000000      7.001500      4.000000     36.000000   \n",
       "50%       24.240000     62.000000     12.998000     17.000000    118.000000   \n",
       "75%       31.060000     77.000000     16.997900     49.000000    222.000000   \n",
       "max       45.455000    100.000000     56.996900    367.000000    886.000000   \n",
       "\n",
       "              count  \n",
       "count  10886.000000  \n",
       "mean     191.574132  \n",
       "std      181.144454  \n",
       "min        1.000000  \n",
       "25%       42.000000  \n",
       "50%      145.000000  \n",
       "75%      284.000000  \n",
       "max      977.000000  "
      ]
     },
     "execution_count": 3,
     "metadata": {},
     "output_type": "execute_result"
    }
   ],
   "source": [
    "train_.describe()"
   ]
  },
  {
   "cell_type": "code",
   "execution_count": 4,
   "metadata": {
    "collapsed": false
   },
   "outputs": [
    {
     "name": "stdout",
     "output_type": "stream",
     "text": [
      "<class 'pandas.core.frame.DataFrame'>\n",
      "RangeIndex: 10886 entries, 0 to 10885\n",
      "Data columns (total 12 columns):\n",
      "datetime      10886 non-null object\n",
      "season        10886 non-null int64\n",
      "holiday       10886 non-null int64\n",
      "workingday    10886 non-null int64\n",
      "weather       10886 non-null int64\n",
      "temp          10886 non-null float64\n",
      "atemp         10886 non-null float64\n",
      "humidity      10886 non-null int64\n",
      "windspeed     10886 non-null float64\n",
      "casual        10886 non-null int64\n",
      "registered    10886 non-null int64\n",
      "count         10886 non-null int64\n",
      "dtypes: float64(3), int64(8), object(1)\n",
      "memory usage: 1020.6+ KB\n"
     ]
    }
   ],
   "source": [
    "train_.info()"
   ]
  },
  {
   "cell_type": "markdown",
   "metadata": {},
   "source": [
    "Check for duplicates:"
   ]
  },
  {
   "cell_type": "code",
   "execution_count": 5,
   "metadata": {
    "collapsed": false
   },
   "outputs": [
    {
     "name": "stdout",
     "output_type": "stream",
     "text": [
      "no duplicates\n"
     ]
    }
   ],
   "source": [
    "data = pd.concat([train_,test_])\n",
    "dup = [(dup[0],dup[1]) for dup in enumerate(data.duplicated()) if dup[1]==True]\n",
    "if dup:\n",
    "    print dup\n",
    "else:\n",
    "    print \"no duplicates\"                                             "
   ]
  },
  {
   "cell_type": "markdown",
   "metadata": {},
   "source": [
    "Check for missing values:"
   ]
  },
  {
   "cell_type": "code",
   "execution_count": 6,
   "metadata": {
    "collapsed": false
   },
   "outputs": [
    {
     "name": "stdout",
     "output_type": "stream",
     "text": [
      "%No missing values\n",
      "%No missing values\n"
     ]
    }
   ],
   "source": [
    "def count_missing(data):\n",
    "    names = [col for col in data.columns]\n",
    "    dtypes = [i for i in data.dtypes]\n",
    "    features = zip(names, dtypes)\n",
    "    values = [sum(data.iloc[:,i[0]].isnull()) for i in enumerate(names)] \n",
    "    missing = [i for i in zip(features, values) if i[1]]\n",
    "    if not missing:\n",
    "        return \"%No missing values\"\n",
    "    else:\n",
    "        return pd.DataFrame(missing, columns=['Feature', '#Miss'])\n",
    "\n",
    "print count_missing(train_)\n",
    "print count_missing(test_)"
   ]
  },
  {
   "cell_type": "markdown",
   "metadata": {
    "collapsed": true
   },
   "source": [
    "Let's look at some graphs."
   ]
  },
  {
   "cell_type": "raw",
   "metadata": {},
   "source": [
    "Histograms\n",
    "train_.hist()"
   ]
  },
  {
   "cell_type": "markdown",
   "metadata": {},
   "source": [
    "![missing](http://i882.photobucket.com/albums/ac24/Noah_Rippner/hist_train_zps0yc6jlxb.png)"
   ]
  },
  {
   "cell_type": "raw",
   "metadata": {},
   "source": [
    "Box plots:\n",
    "train_.boxplot(column=['humidity','temp','atemp','windspeed','registered',\n",
    "                        'casual','count'])"
   ]
  },
  {
   "cell_type": "markdown",
   "metadata": {},
   "source": [
    "![missing](http://i882.photobucket.com/albums/ac24/Noah_Rippner/box_train_zpsw8gpyai2.png)"
   ]
  },
  {
   "cell_type": "markdown",
   "metadata": {},
   "source": [
    "Scatter plot matrix of correlations:"
   ]
  },
  {
   "cell_type": "raw",
   "metadata": {},
   "source": [
    "scatter_matrix(train_[['temp','atemp','humidity','windspeed','casual','registered',\n",
    "  'count']],figsize=(15,15), alpha=0.2, diagonal='kde')"
   ]
  },
  {
   "cell_type": "markdown",
   "metadata": {},
   "source": [
    "![missing](http://i882.photobucket.com/albums/ac24/Noah_Rippner/scatter_matrix_zps9askcqsw.png)"
   ]
  },
  {
   "cell_type": "code",
   "execution_count": 3,
   "metadata": {
    "collapsed": false
   },
   "outputs": [
    {
     "data": {
      "text/html": [
       "<div>\n",
       "<table border=\"1\" class=\"dataframe\">\n",
       "  <thead>\n",
       "    <tr style=\"text-align: right;\">\n",
       "      <th></th>\n",
       "      <th>season</th>\n",
       "      <th>holiday</th>\n",
       "      <th>workingday</th>\n",
       "      <th>weather</th>\n",
       "      <th>temp</th>\n",
       "      <th>atemp</th>\n",
       "      <th>humidity</th>\n",
       "      <th>windspeed</th>\n",
       "      <th>casual</th>\n",
       "      <th>registered</th>\n",
       "      <th>count</th>\n",
       "    </tr>\n",
       "  </thead>\n",
       "  <tbody>\n",
       "    <tr>\n",
       "      <th>season</th>\n",
       "      <td>1.000000</td>\n",
       "      <td>0.029368</td>\n",
       "      <td>-0.008126</td>\n",
       "      <td>0.008879</td>\n",
       "      <td>0.258689</td>\n",
       "      <td>0.264744</td>\n",
       "      <td>0.190610</td>\n",
       "      <td>-0.147121</td>\n",
       "      <td>0.096758</td>\n",
       "      <td>0.164011</td>\n",
       "      <td>0.163439</td>\n",
       "    </tr>\n",
       "    <tr>\n",
       "      <th>holiday</th>\n",
       "      <td>0.029368</td>\n",
       "      <td>1.000000</td>\n",
       "      <td>-0.250491</td>\n",
       "      <td>-0.007074</td>\n",
       "      <td>0.000295</td>\n",
       "      <td>-0.005215</td>\n",
       "      <td>0.001929</td>\n",
       "      <td>0.008409</td>\n",
       "      <td>0.043799</td>\n",
       "      <td>-0.020956</td>\n",
       "      <td>-0.005393</td>\n",
       "    </tr>\n",
       "    <tr>\n",
       "      <th>workingday</th>\n",
       "      <td>-0.008126</td>\n",
       "      <td>-0.250491</td>\n",
       "      <td>1.000000</td>\n",
       "      <td>0.033772</td>\n",
       "      <td>0.029966</td>\n",
       "      <td>0.024660</td>\n",
       "      <td>-0.010880</td>\n",
       "      <td>0.013373</td>\n",
       "      <td>-0.319111</td>\n",
       "      <td>0.119460</td>\n",
       "      <td>0.011594</td>\n",
       "    </tr>\n",
       "    <tr>\n",
       "      <th>weather</th>\n",
       "      <td>0.008879</td>\n",
       "      <td>-0.007074</td>\n",
       "      <td>0.033772</td>\n",
       "      <td>1.000000</td>\n",
       "      <td>-0.055035</td>\n",
       "      <td>-0.055376</td>\n",
       "      <td>0.406244</td>\n",
       "      <td>0.007261</td>\n",
       "      <td>-0.135918</td>\n",
       "      <td>-0.109340</td>\n",
       "      <td>-0.128655</td>\n",
       "    </tr>\n",
       "    <tr>\n",
       "      <th>temp</th>\n",
       "      <td>0.258689</td>\n",
       "      <td>0.000295</td>\n",
       "      <td>0.029966</td>\n",
       "      <td>-0.055035</td>\n",
       "      <td>1.000000</td>\n",
       "      <td>0.984948</td>\n",
       "      <td>-0.064949</td>\n",
       "      <td>-0.017852</td>\n",
       "      <td>0.467097</td>\n",
       "      <td>0.318571</td>\n",
       "      <td>0.394454</td>\n",
       "    </tr>\n",
       "    <tr>\n",
       "      <th>atemp</th>\n",
       "      <td>0.264744</td>\n",
       "      <td>-0.005215</td>\n",
       "      <td>0.024660</td>\n",
       "      <td>-0.055376</td>\n",
       "      <td>0.984948</td>\n",
       "      <td>1.000000</td>\n",
       "      <td>-0.043536</td>\n",
       "      <td>-0.057473</td>\n",
       "      <td>0.462067</td>\n",
       "      <td>0.314635</td>\n",
       "      <td>0.389784</td>\n",
       "    </tr>\n",
       "    <tr>\n",
       "      <th>humidity</th>\n",
       "      <td>0.190610</td>\n",
       "      <td>0.001929</td>\n",
       "      <td>-0.010880</td>\n",
       "      <td>0.406244</td>\n",
       "      <td>-0.064949</td>\n",
       "      <td>-0.043536</td>\n",
       "      <td>1.000000</td>\n",
       "      <td>-0.318607</td>\n",
       "      <td>-0.348187</td>\n",
       "      <td>-0.265458</td>\n",
       "      <td>-0.317371</td>\n",
       "    </tr>\n",
       "    <tr>\n",
       "      <th>windspeed</th>\n",
       "      <td>-0.147121</td>\n",
       "      <td>0.008409</td>\n",
       "      <td>0.013373</td>\n",
       "      <td>0.007261</td>\n",
       "      <td>-0.017852</td>\n",
       "      <td>-0.057473</td>\n",
       "      <td>-0.318607</td>\n",
       "      <td>1.000000</td>\n",
       "      <td>0.092276</td>\n",
       "      <td>0.091052</td>\n",
       "      <td>0.101369</td>\n",
       "    </tr>\n",
       "    <tr>\n",
       "      <th>casual</th>\n",
       "      <td>0.096758</td>\n",
       "      <td>0.043799</td>\n",
       "      <td>-0.319111</td>\n",
       "      <td>-0.135918</td>\n",
       "      <td>0.467097</td>\n",
       "      <td>0.462067</td>\n",
       "      <td>-0.348187</td>\n",
       "      <td>0.092276</td>\n",
       "      <td>1.000000</td>\n",
       "      <td>0.497250</td>\n",
       "      <td>0.690414</td>\n",
       "    </tr>\n",
       "    <tr>\n",
       "      <th>registered</th>\n",
       "      <td>0.164011</td>\n",
       "      <td>-0.020956</td>\n",
       "      <td>0.119460</td>\n",
       "      <td>-0.109340</td>\n",
       "      <td>0.318571</td>\n",
       "      <td>0.314635</td>\n",
       "      <td>-0.265458</td>\n",
       "      <td>0.091052</td>\n",
       "      <td>0.497250</td>\n",
       "      <td>1.000000</td>\n",
       "      <td>0.970948</td>\n",
       "    </tr>\n",
       "    <tr>\n",
       "      <th>count</th>\n",
       "      <td>0.163439</td>\n",
       "      <td>-0.005393</td>\n",
       "      <td>0.011594</td>\n",
       "      <td>-0.128655</td>\n",
       "      <td>0.394454</td>\n",
       "      <td>0.389784</td>\n",
       "      <td>-0.317371</td>\n",
       "      <td>0.101369</td>\n",
       "      <td>0.690414</td>\n",
       "      <td>0.970948</td>\n",
       "      <td>1.000000</td>\n",
       "    </tr>\n",
       "  </tbody>\n",
       "</table>\n",
       "</div>"
      ],
      "text/plain": [
       "              season   holiday  workingday   weather      temp     atemp  \\\n",
       "season      1.000000  0.029368   -0.008126  0.008879  0.258689  0.264744   \n",
       "holiday     0.029368  1.000000   -0.250491 -0.007074  0.000295 -0.005215   \n",
       "workingday -0.008126 -0.250491    1.000000  0.033772  0.029966  0.024660   \n",
       "weather     0.008879 -0.007074    0.033772  1.000000 -0.055035 -0.055376   \n",
       "temp        0.258689  0.000295    0.029966 -0.055035  1.000000  0.984948   \n",
       "atemp       0.264744 -0.005215    0.024660 -0.055376  0.984948  1.000000   \n",
       "humidity    0.190610  0.001929   -0.010880  0.406244 -0.064949 -0.043536   \n",
       "windspeed  -0.147121  0.008409    0.013373  0.007261 -0.017852 -0.057473   \n",
       "casual      0.096758  0.043799   -0.319111 -0.135918  0.467097  0.462067   \n",
       "registered  0.164011 -0.020956    0.119460 -0.109340  0.318571  0.314635   \n",
       "count       0.163439 -0.005393    0.011594 -0.128655  0.394454  0.389784   \n",
       "\n",
       "            humidity  windspeed    casual  registered     count  \n",
       "season      0.190610  -0.147121  0.096758    0.164011  0.163439  \n",
       "holiday     0.001929   0.008409  0.043799   -0.020956 -0.005393  \n",
       "workingday -0.010880   0.013373 -0.319111    0.119460  0.011594  \n",
       "weather     0.406244   0.007261 -0.135918   -0.109340 -0.128655  \n",
       "temp       -0.064949  -0.017852  0.467097    0.318571  0.394454  \n",
       "atemp      -0.043536  -0.057473  0.462067    0.314635  0.389784  \n",
       "humidity    1.000000  -0.318607 -0.348187   -0.265458 -0.317371  \n",
       "windspeed  -0.318607   1.000000  0.092276    0.091052  0.101369  \n",
       "casual     -0.348187   0.092276  1.000000    0.497250  0.690414  \n",
       "registered -0.265458   0.091052  0.497250    1.000000  0.970948  \n",
       "count      -0.317371   0.101369  0.690414    0.970948  1.000000  "
      ]
     },
     "execution_count": 3,
     "metadata": {},
     "output_type": "execute_result"
    }
   ],
   "source": [
    "train_.corr()"
   ]
  },
  {
   "cell_type": "markdown",
   "metadata": {},
   "source": [
    "Initial observations:\n",
    "- our target variables (count, registered, casual) are severely skewed right and outliers are present\n",
    "- holiday, season, workingday, and weather are categorical.\n",
    "- no missing values, no duplicates\n",
    "- atemp, temp, and humidity are fairly normally distributed\n",
    "- predictors don't appear to be intercorrelated with exception of temp/season and humidity/weather\n",
    "- temp is positively correlated with count (bike rentals) -- higher temperatures are associated with more rentals\n",
    "- count is negatively correlated to casual rentals -- on non-working days more non-registered people rent bikes than on working days\n",
    "\n",
    "Impressions/hypotheses (what are your hunches about which variables predict/explain the number of bike rentals?)\n",
    "\n",
    "My initial hypotheses:\n",
    "1. more rentals when temp is warmer\n",
    "2. more rentals when it's not raining (lower humidity, weather=1)\n",
    "3. more rentals when workingday is false\n",
    "4. more rentals when holiday is true\n",
    "5. rentals will increase during certain times of day, eg commutes to and from work\n",
    "\n",
    "Let's examine these hypotheses using the exploratory data analysis perspective. But first, let's do some feature engineering."
   ]
  },
  {
   "cell_type": "markdown",
   "metadata": {},
   "source": [
    "## Feature Engineering"
   ]
  },
  {
   "cell_type": "markdown",
   "metadata": {},
   "source": [
    "Extract time variables:"
   ]
  },
  {
   "cell_type": "code",
   "execution_count": 10,
   "metadata": {
    "collapsed": true
   },
   "outputs": [],
   "source": [
    "def extract_date(data):\n",
    "    data.datetime = pd.to_datetime(data.datetime)\n",
    "    for i, j in data.datetime.iteritems():\n",
    "        data.loc[i, 'hour'] = j.hour\n",
    "        data.loc[i, 'month'] = j.month\n",
    "        data.loc[i, 'day'] = j.day\n",
    "    data['weekday'] = data.datetime.apply(lambda x: x.weekday())\n",
    "extract_date(train_)\n",
    "extract_date(test_)"
   ]
  },
  {
   "cell_type": "markdown",
   "metadata": {},
   "source": [
    "weekday variable:\n",
    "\n",
    "code   |   weekday\n",
    "-------|----------\n",
    "0      |   Monday\n",
    "1      |   Tuesday\n",
    "2      |   Wednesday\n",
    "3      |   Thursday\n",
    "4      |   Friday\n",
    "5      |   Saturday\n",
    "6      |   Sunday"
   ]
  },
  {
   "cell_type": "markdown",
   "metadata": {},
   "source": [
    "Discretize (bin) continuous variables using rpart decision tree regression to determine the thresholds: "
   ]
  },
  {
   "cell_type": "code",
   "execution_count": 8,
   "metadata": {
    "collapsed": true
   },
   "outputs": [],
   "source": [
    "from sklearn import tree\n",
    "import patsy\n",
    "from sklearn.externals.six import StringIO\n",
    "import pydot\n",
    "from IPython.display import Image"
   ]
  },
  {
   "cell_type": "code",
   "execution_count": 9,
   "metadata": {
    "collapsed": true
   },
   "outputs": [],
   "source": [
    "def create_tree(dep_var, ind_var, data, pdf=True):\n",
    "    \n",
    "    y, X = patsy.dmatrices(\"%s ~ %s + 0\" % (dep_var, ind_var), data=data)\n",
    "\n",
    "    clf = tree.DecisionTreeRegressor(max_leaf_nodes=7)\n",
    "    clf = clf.fit(X, np.log(y))\n",
    "\n",
    "    dot_data = StringIO()\n",
    "    tree.export_graphviz(clf, out_file=dot_data)\n",
    "    graph = pydot.graph_from_dot_data(dot_data.getvalue())\n",
    "    \n",
    "    if pdf == True:\n",
    "        graph.write_pdf('tree_%s.pdf' % ind_var)\n",
    "    else:\n",
    "        return Image(graph.create_png())\n",
    "\n",
    "\n",
    "create_tree('count', 'hour', train_)\n",
    "create_tree('count', 'temp', train_)"
   ]
  },
  {
   "cell_type": "markdown",
   "metadata": {},
   "source": [
    "Decision tree results: y=count, x=hour\n",
    "![missing](http://i882.photobucket.com/albums/ac24/Noah_Rippner/tree_hour_zpsnrq3epkx.png)"
   ]
  },
  {
   "cell_type": "markdown",
   "metadata": {},
   "source": [
    "Discretize hour, temp and year variables based on decision tree boundaries:"
   ]
  },
  {
   "cell_type": "code",
   "execution_count": 11,
   "metadata": {
    "collapsed": true
   },
   "outputs": [],
   "source": [
    "def bin_hour(data):\n",
    "    data['hour_binned'] = 0\n",
    "    for i, j in data.hour.iteritems():\n",
    "        if 0 <= j < 1.5:\n",
    "            data.loc[i,'hour_binned'] = 1\n",
    "        elif 1.5 < j < 4.5:\n",
    "            data.loc[i,'hour_binned'] = 2\n",
    "        elif 4.5 < j < 6.5:\n",
    "            data.loc[i,'hour_binned'] = 3\n",
    "        elif 6.5 < j < 10.5:\n",
    "            data.loc[i,'hour_binned'] = 4\n",
    "        elif 10.5 < j < 12.15:\n",
    "            data.loc[i,'hour_binned'] = 5\n",
    "        elif 12.5 < j < 21.5:\n",
    "            data.loc[i,'hour_binned'] = 6\n",
    "        elif 21.5 < j <= 24:\n",
    "            data.loc[i,'hour_binned'] = 7\n",
    "        else:\n",
    "            print i, j, \"problem\"\n",
    "            \n",
    "bin_hour(train_)\n",
    "bin_hour(test_)"
   ]
  },
  {
   "cell_type": "markdown",
   "metadata": {},
   "source": [
    "hour_binned variable:\n",
    "\n",
    "code    |  hour range\n",
    "--------|-------------\n",
    "1       |   12:00 AM - 1:59 AM\n",
    "2       |    2:00 AM - 4:59 AM\n",
    "3       |    5:00 AM - 6:59 AM\n",
    "4       |    7:00 AM - 10:59 AM\n",
    "5       |   11:00 AM - 12:59 PM\n",
    "6       |    1:00 PM -  8:59 PM\n",
    "7       |    9:00 PM - 11:59 PM"
   ]
  },
  {
   "cell_type": "code",
   "execution_count": 12,
   "metadata": {
    "collapsed": true
   },
   "outputs": [],
   "source": [
    "def bin_temp(data):\n",
    "    data['temp_binned'] = 0\n",
    "    for i, j in data.temp.iteritems():\n",
    "        if j <= 6.15:\n",
    "            data.loc[i,'temp_binned'] = 1\n",
    "        elif 6.15 < j <= 11.1:\n",
    "            data.loc[i,'temp_binned'] = 2\n",
    "        elif 11.1 < j <= 12.7:\n",
    "            data.loc[i,'temp_binned'] = 3\n",
    "        elif 12.7 < j <= 19.3:\n",
    "            data.loc[i,'temp_binned'] = 4\n",
    "        elif 19.3 < j <= 29.1:\n",
    "            data.loc[i,'temp_binned'] = 5\n",
    "        elif 29.1 < j <= 30.8:\n",
    "            data.loc[i,'temp_binned'] = 6\n",
    "        elif j > 30.8:\n",
    "            data.loc[i,'temp_binned'] = 7\n",
    "        else:\n",
    "            print i,j, \"problem\"\n",
    "\n",
    "bin_temp(train_)\n",
    "bin_temp(test_)"
   ]
  },
  {
   "cell_type": "markdown",
   "metadata": {},
   "source": [
    "temp_binned variable:\n",
    "\n",
    "code    |  temp range(c)\n",
    "--------|-------------\n",
    "1       |   (0 - 6.15]\n",
    "2       |   (6.15 - 11.1]\n",
    "3       |   (11.1, 12.7]\n",
    "4       |   (12.7, 19.3]\n",
    "5       |   (19.3, 29.1]\n",
    "6       |   (29.1, 30.8]\n",
    "7       |   (30.8, +)"
   ]
  },
  {
   "cell_type": "code",
   "execution_count": 13,
   "metadata": {
    "collapsed": true
   },
   "outputs": [],
   "source": [
    "def bin_year(data):\n",
    "    data['year_binned'] = 0\n",
    "    for i, j in data.datetime.iteritems():\n",
    "        if (j.year == 2011 and 0 <j.month<= 3):\n",
    "            data.loc[i,'year_binned'] = 1\n",
    "        elif (j.year == 2011 and 3<j.month<=6):\n",
    "            data.loc[i, 'year_binned'] = 2\n",
    "        elif (j.year == 2011 and 6<j.month<=9):\n",
    "            data.loc[i, 'year_binned'] = 3\n",
    "        elif (j.year == 2011 and 9<j.month<=12):\n",
    "            data.loc[i, 'year_binned'] = 4\n",
    "        elif (j.year == 2012 and 0<j.month<= 3):\n",
    "            data.loc[i,'year_binned'] = 5\n",
    "        elif (j.year == 2012 and 3<j.month<=6):\n",
    "            data.loc[i, 'year_binned'] = 6\n",
    "        elif (j.year == 2012 and 6<j.month<=9):\n",
    "            data.loc[i, 'year_binned'] = 7\n",
    "        elif (j.year == 2012 and 9<j.month<=12):\n",
    "            data.loc[i, 'year_binned'] = 8\n",
    "        elif (j.year > 2012):\n",
    "            data.loc[i, 'year_binned'] = 8\n",
    "        else:\n",
    "            print i, j, \"problem\"\n",
    "            \n",
    "bin_year(train_)\n",
    "bin_year(test_)"
   ]
  },
  {
   "cell_type": "markdown",
   "metadata": {},
   "source": [
    "Create a 'day_type' variable:"
   ]
  },
  {
   "cell_type": "code",
   "execution_count": 14,
   "metadata": {
    "collapsed": true
   },
   "outputs": [],
   "source": [
    "def daytype(data):\n",
    "    data['day_type'] = \"\"\n",
    "    for i, j in data.holiday.iteritems():\n",
    "        if (j==0 and data.loc[i,'workingday']==0):\n",
    "            data.loc[i, 'day_type'] = 1\n",
    "        elif j == 1:\n",
    "            data.loc[i, 'day_type'] = 2\n",
    "        elif (j==0 and data.loc[i, 'workingday']==1):\n",
    "            data.loc[i, 'day_type'] = 3\n",
    "        else:\n",
    "            print i,j, \"problem\"\n",
    "\n",
    "daytype(train_)\n",
    "daytype(test_)"
   ]
  },
  {
   "cell_type": "markdown",
   "metadata": {},
   "source": [
    "day_time variable:\n",
    "\n",
    "code     |   day_type\n",
    "---------|------------\n",
    "1        |  weekend\n",
    "2        |   holiday\n",
    "3        |   work day"
   ]
  },
  {
   "cell_type": "markdown",
   "metadata": {},
   "source": [
    "Now, let's use the Exploratory Data Analysis (EDA) framework to look for relationships within the data:"
   ]
  },
  {
   "cell_type": "markdown",
   "metadata": {
    "collapsed": true
   },
   "source": [
    "Boxplots by hour:\n",
    "\n",
    "![missing](http://i882.photobucket.com/albums/ac24/Noah_Rippner/box_by_hour_zpssznl15ev.png)"
   ]
  },
  {
   "cell_type": "raw",
   "metadata": {},
   "source": [
    "train_.boxplot(column=['registered','casual'], by='hour')"
   ]
  },
  {
   "cell_type": "markdown",
   "metadata": {},
   "source": [
    "- registered users rent more bikes than casual (non-registered)\n",
    "    - they rent more around the morning and evening commutes -- clearly they're using the bike share for their trainsportation to and from work\n",
    "- this is does not account for weather, temp, weekends, or holidays, though.\n",
    "- there are a lot of outliers, especially for casual users\n",
    "    - what might account for these outliers?\n",
    "    \n",
    "Let's try to learn more:"
   ]
  },
  {
   "cell_type": "raw",
   "metadata": {},
   "source": [
    "Box plots by day_type:"
   ]
  },
  {
   "cell_type": "markdown",
   "metadata": {},
   "source": [
    "![missing](http://i882.photobucket.com/albums/ac24/Noah_Rippner/box_by_day_type_zpsfqgbmard.png)"
   ]
  },
  {
   "cell_type": "markdown",
   "metadata": {},
   "source": [
    "Interesting. \n",
    "- day type (1:weekend, 2:holiday, 3:work day) on its own doesn't really predict number of rentals\n",
    "- on work days there are a lot of outliers for registered users...?\n",
    "- we see outliers for casual users on weekends and work days, but fewer on holidays\n",
    "- clearly, there are additional factors in play...maybe weather or temperature?\n",
    "\n",
    "Let's look at one or two more. We remember from our correlation matrix that temp had the highest correlation with rentals:"
   ]
  },
  {
   "cell_type": "markdown",
   "metadata": {},
   "source": [
    "![missing](http://i882.photobucket.com/albums/ac24/Noah_Rippner/box_by_temp_zpsidefgp0o.png)"
   ]
  },
  {
   "cell_type": "markdown",
   "metadata": {},
   "source": [
    "Hmmmmm. Usage increases along with temperature, but it doesn't explain away our outliers.\n",
    "\n",
    "Let's look at one more -- grouped by both day_type and temperature:"
   ]
  },
  {
   "cell_type": "markdown",
   "metadata": {},
   "source": [
    "![missing](http://i882.photobucket.com/albums/ac24/Noah_Rippner/multi_day_temp_zps0k3xpzki.png)"
   ]
  },
  {
   "cell_type": "markdown",
   "metadata": {},
   "source": [
    "This is cluttered, but we see some patterns.\n",
    "Let's try zooming in for a closer look:"
   ]
  },
  {
   "cell_type": "markdown",
   "metadata": {},
   "source": [
    "![missing](http://i882.photobucket.com/albums/ac24/Noah_Rippner/day_temp_zoom_zpsntqiou97.png)"
   ]
  },
  {
   "cell_type": "markdown",
   "metadata": {},
   "source": [
    "Stopping our exploraton here, we've so far:\n",
    "- been unable to completely account for our outliers. Something else is in play\n",
    "- we see that registered users appear to be using the bike share for their daily commutes\n",
    "- interestingly, day type doesn't directly predict usage rates\n",
    "- temperature is a direct predictor of usage\n",
    "\n",
    "We could definitely continue to explore. \n",
    "\n",
    "# Summary:\n",
    "\n",
    "- this data exploration and preparation example included:\n",
    "    -- summary statistics\n",
    "    -- visualizations\n",
    "    -- transformations\n",
    "    -- feature engineering\n",
    "- we actually used machine learning to help prepare the data\n",
    "- our exploration of summary statistics and graphs was essential to knowing how to prepare the data\n",
    "- this is a very simple example -- the number of dimensions is small, we had no missing values or duplicates, there was practically no redundancy in the variables, and the data was overall very clean. Nonetheless, to prepare our data for the iteration of the modeling process, a fairly intensive preparation process was involved. Refining a *good* model will require multiple iterations while using practical judgment and trial and error to try different configurations of data preparation and machine learning/modeling options.\n",
    "- I think of data preparation as inextricable from the larger data analysis process -- with business understanding, data exploration, and data modeling -- it's not just a preliminary step. It's an iterative, if not ongoing, activity during data mining.\n",
    "\n",
    "## Thoughts\n",
    "1. a minimally useful collection of data preparation tools (if defined as we have in this example) would require a huge number of diverse functions\n",
    "2. when people have tried to create tools to simplify the process (there are lot, such as Knime, Trifacta, etc.) they haven't really caught on\n",
    "    - in my opinion, data scientists prefer R, Python or SAS to these GUI-based tools due to the difficulty navigating via point-and-click through such complex visuo-spatial software environments\n",
    "3. Is there a minimal set of preparation/exploration tasks to allow useful and satisfying \"pre-preparation/pre-exploration\" while maintaining the parsimony of the data.world product?\n",
    "4. data exploration is so much easier when you can produce visualizations as well as numeric summaries\n",
    "5. the Python Pandas library is, in my opinion, the pinnacle of data manipulation tools at this time. It's so amazing. I hear that in R plyr and dplyr are also good.\n",
    "6. The 'business understanding' component is huge in the real world. \n",
    "    - a data dictionary is a must\n",
    "    - where did the data come from? can its quality be validated? is there a \"story\" to the data's measurement/collection that can help the data scientist derive insight?\n",
    "7. Finally, I hope this has been relevant and useful! I'll leave you with this quote from George Clason (whoever he was)\n",
    "\n",
    "![Missing](http://i882.photobucket.com/albums/ac24/Noah_Rippner/clason_zps4qdtsfb1.jpg)"
   ]
  },
  {
   "cell_type": "code",
   "execution_count": null,
   "metadata": {
    "collapsed": true
   },
   "outputs": [],
   "source": []
  }
 ],
 "metadata": {
  "kernelspec": {
   "display_name": "Python 2",
   "language": "python",
   "name": "python2"
  },
  "language_info": {
   "codemirror_mode": {
    "name": "ipython",
    "version": 2
   },
   "file_extension": ".py",
   "mimetype": "text/x-python",
   "name": "python",
   "nbconvert_exporter": "python",
   "pygments_lexer": "ipython2",
   "version": "2.7.11"
  }
 },
 "nbformat": 4,
 "nbformat_minor": 0
}
